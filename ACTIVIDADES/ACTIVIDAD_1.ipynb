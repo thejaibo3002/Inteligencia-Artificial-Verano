{
  "nbformat": 4,
  "nbformat_minor": 0,
  "metadata": {
    "colab": {
      "provenance": []
    },
    "kernelspec": {
      "name": "python3",
      "display_name": "Python 3"
    },
    "language_info": {
      "name": "python"
    }
  },
  "cells": [
    {
      "cell_type": "markdown",
      "source": [
        "PROBLEMA NÚMERO 1: Desarrolla un algoritmo que solicite al usuario dos números y muestre la suma de ambos."
      ],
      "metadata": {
        "id": "p1uHzy1jD069"
      }
    },
    {
      "cell_type": "code",
      "source": [
        "# Solicitar al usuario dos números\n",
        "num1 = int(input(\"Ingrese el primer número: \"))\n",
        "num2 = int(input(\"Ingrese el segundo número: \"))\n",
        "\n",
        "# Calcular la suma\n",
        "suma = num1 + num2\n",
        "\n",
        "# Mostrar el resultado\n",
        "print(\"La suma de\", num1, \"y\", num2, \"es:\", suma)\n"
      ],
      "metadata": {
        "colab": {
          "base_uri": "https://localhost:8080/"
        },
        "id": "TdgBlUHrDCv9",
        "outputId": "24b13dd1-7554-4205-cceb-e899858822f7"
      },
      "execution_count": 1,
      "outputs": [
        {
          "output_type": "stream",
          "name": "stdout",
          "text": [
            "Ingrese el primer número: 10\n",
            "Ingrese el segundo número: 7\n",
            "La suma de 10 y 7 es: 17\n"
          ]
        }
      ]
    },
    {
      "cell_type": "markdown",
      "source": [
        "PROBLEMA NÚMERO 2: Desarrolla un algoritmo que calcule el factorial de un número ingresado por el usuario."
      ],
      "metadata": {
        "id": "nkNM0Y1hD8pO"
      }
    },
    {
      "cell_type": "code",
      "execution_count": null,
      "metadata": {
        "colab": {
          "base_uri": "https://localhost:8080/"
        },
        "id": "-Jin4OlwOGM0",
        "outputId": "a243af52-df61-4ee4-870b-26eb42104e6e"
      },
      "outputs": [
        {
          "output_type": "stream",
          "name": "stdout",
          "text": [
            "24\n"
          ]
        }
      ],
      "source": [
        "def factorial(*n):\n",
        "    for x in n:\n",
        "        fact=1\n",
        "        for k in range(1,x+1):\n",
        "            fact=fact*k\n",
        "        print(fact)\n",
        "\n",
        "\n",
        "factorial(4)"
      ]
    },
    {
      "cell_type": "markdown",
      "source": [
        "PROBLEMA NÚMERO 3: Desarrolla un algoritmo que tome una lista de números y un número objetivo, y muestre la posición (índice) en la que se encuentra el número objetivo en la lista.\n"
      ],
      "metadata": {
        "id": "x2Av8XLqEFGc"
      }
    },
    {
      "cell_type": "code",
      "source": [
        "# Definir la función para encontrar el índice del número objetivo\n",
        "def buscar_indice(lista, objetivo):\n",
        "    if objetivo in lista:\n",
        "        indice = lista.index(objetivo)\n",
        "        return indice\n",
        "    else:\n",
        "        return -1\n",
        "\n",
        "# Tomar una lista de números del usuario\n",
        "lista = input(\"Ingrese una lista de números separados por espacios: \").split()\n",
        "lista = [int(num) for num in lista]\n",
        "\n",
        "# Tomar el número objetivo del usuario\n",
        "objetivo = int(input(\"Ingrese el número objetivo: \"))\n",
        "\n",
        "# Buscar el índice del número objetivo en la lista\n",
        "indice = buscar_indice(lista, objetivo)\n",
        "\n",
        "# Mostrar el resultado\n",
        "if indice != -1:\n",
        "    print(\"El número objetivo\", objetivo, \"se encuentra en el índice\", indice, \"de la lista.\")\n",
        "else:\n",
        "    print(\"El número objetivo\", objetivo, \"no se encuentra en la lista.\")"
      ],
      "metadata": {
        "colab": {
          "base_uri": "https://localhost:8080/"
        },
        "id": "t5T1zUwuDc0M",
        "outputId": "217ef3c4-3c8b-4b2e-fd97-3073052acf07"
      },
      "execution_count": 3,
      "outputs": [
        {
          "output_type": "stream",
          "name": "stdout",
          "text": [
            "Ingrese una lista de números separados por espacios: 1 2 3 4 5 6 7 8 9 \n",
            "Ingrese el número objetivo: 3\n",
            "El número objetivo 3 se encuentra en el índice 2 de la lista.\n"
          ]
        }
      ]
    },
    {
      "cell_type": "markdown",
      "source": [
        "PROBLEMA NÚMERO 4: Desarrolla un algoritmo que tome una cadena de texto y determine si es un palíndromo (se lee igual de adelante hacia atrás y viceversa)."
      ],
      "metadata": {
        "id": "7whPlAaOEQfk"
      }
    },
    {
      "cell_type": "code",
      "source": [
        "def es_palindromo(cadena):\n",
        "    # Eliminar espacios y convertir todo a minúsculas\n",
        "    cadena = cadena.replace(\" \", \"\").lower()\n",
        "    # Comparar la cadena con su reverso\n",
        "    if cadena == cadena[::-1]:\n",
        "        return True\n",
        "    else:\n",
        "        return False\n",
        "\n",
        "# Tomar una cadena de texto del usuario\n",
        "cadena = input(\"Ingrese una cadena de texto: \")\n",
        "\n",
        "# Verificar si es un palíndromo\n",
        "if es_palindromo(cadena):\n",
        "    print(\"La cadena es un palíndromo.\")\n",
        "else:\n",
        "    print(\"La cadena no es un palíndromo.\")"
      ],
      "metadata": {
        "colab": {
          "base_uri": "https://localhost:8080/"
        },
        "id": "pG2fI97XEXnc",
        "outputId": "33e35901-074e-482f-8068-3783fcf294bc"
      },
      "execution_count": 5,
      "outputs": [
        {
          "output_type": "stream",
          "name": "stdout",
          "text": [
            "Ingrese una cadena de texto: soy\n",
            "La cadena no es un palíndromo.\n"
          ]
        }
      ]
    }
  ]
}